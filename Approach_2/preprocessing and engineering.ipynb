{
 "cells": [
  {
   "cell_type": "code",
   "execution_count": 8,
   "metadata": {},
   "outputs": [
    {
     "ename": "AttributeError",
     "evalue": "'numpy.ndarray' object has no attribute 'startswith'",
     "output_type": "error",
     "traceback": [
      "\u001b[1;31m---------------------------------------------------------------------------\u001b[0m",
      "\u001b[1;31mAttributeError\u001b[0m                            Traceback (most recent call last)",
      "Cell \u001b[1;32mIn[8], line 31\u001b[0m\n\u001b[0;32m     28\u001b[0m resized_image \u001b[38;5;241m=\u001b[39m cv2\u001b[38;5;241m.\u001b[39mresize(image,(\u001b[38;5;241m170\u001b[39m,\u001b[38;5;241m170\u001b[39m))\n\u001b[0;32m     29\u001b[0m normalized_image \u001b[38;5;241m=\u001b[39m normalize(resized_image)\n\u001b[1;32m---> 31\u001b[0m \u001b[38;5;28;01mif\u001b[39;00m \u001b[43mnormalized_image\u001b[49m\u001b[38;5;241;43m.\u001b[39;49m\u001b[43mstartswith\u001b[49m(\u001b[38;5;124m'\u001b[39m\u001b[38;5;124mbee\u001b[39m\u001b[38;5;124m'\u001b[39m):\n\u001b[0;32m     32\u001b[0m     cv2\u001b[38;5;241m.\u001b[39mimwrite(os\u001b[38;5;241m.\u001b[39mpath\u001b[38;5;241m.\u001b[39mjoin(processed_path,\u001b[38;5;124mf\u001b[39m\u001b[38;5;124m'\u001b[39m\u001b[38;5;132;01m{\u001b[39;00mnormalized_image\u001b[38;5;132;01m}\u001b[39;00m\u001b[38;5;124m.jpg\u001b[39m\u001b[38;5;124m'\u001b[39m), normalized_image)\n",
      "\u001b[1;31mAttributeError\u001b[0m: 'numpy.ndarray' object has no attribute 'startswith'"
     ]
    }
   ],
   "source": [
    "import os\n",
    "import cv2\n",
    "import numpy as np \n",
    "import matplotlib.pyplot as plt \n",
    "\n",
    "collective_path = r'C:\\Users\\USER\\Desktop\\DS 23MC\\Data Cleaning & EDA\\Assignments\\Part 2\\dataset\\collective'\n",
    "processed_path = r'C:\\Users\\USER\\Desktop\\DS 23MC\\Data Cleaning & EDA\\Assignments\\Part 2\\dataset\\preprocessed'\n",
    "bees_path = r'C:\\Users\\USER\\Desktop\\DS 23MC\\Data Cleaning & EDA\\Assignments\\Part 2\\dataset\\Bees'\n",
    "hornets_path = r'C:\\Users\\USER\\Desktop\\DS 23MC\\Data Cleaning & EDA\\Assignments\\Part 2\\dataset\\Hornets'\n",
    "butterfly_path = r'C:\\Users\\USER\\Desktop\\DS 23MC\\Data Cleaning & EDA\\Assignments\\Part 2\\dataset\\Butterflies'\n",
    "housefly_path = r'C:\\Users\\USER\\Desktop\\DS 23MC\\Data Cleaning & EDA\\Assignments\\Part 2\\dataset\\Housflies'\n",
    "wasp_path = r''\n",
    "\n",
    "images = [i for i in os.listdir(collective_path) if i.endswith('jpg')]\n",
    "img_arrays = np.random.choice(images,size = 30, replace = False)\n",
    "\n",
    "#normalization function\n",
    "def normalize(resized_image):\n",
    "    r,b,g = cv2.split(resized_image)   \n",
    "    red_normalized = cv2.normalize(r,None, 0, 255, cv2.NORM_MINMAX)\n",
    "    blue_normalized = cv2.normalize(b,None, 0, 255, cv2.NORM_MINMAX)\n",
    "    green_normalized = cv2.normalize(g,None, 0, 255, cv2.NORM_MINMAX)\n",
    "    normalized_img = cv2.merge((red_normalized,blue_normalized,green_normalized))\n",
    "    return normalized_img\n",
    "    \n",
    "for i in images:\n",
    "    image = cv2.imread(os.path.join(collective_path,i))\n",
    "    resized_image = cv2.resize(image,(170,170))\n",
    "    normalized_image = normalize(resized_image)\n",
    "    \n",
    "    if normalized_image.startswith('bee'):\n",
    "        cv2.imwrite(os.path.join(processed_path,f'{normalized_image}.jpg'), normalized_image)\n",
    "    \n",
    "    "
   ]
  },
  {
   "cell_type": "code",
   "execution_count": null,
   "metadata": {},
   "outputs": [],
   "source": [
    "# bee_imgs = [b for b in os.listdir()]\n",
    "    # if (normalized_image.startswith('bee')):\n",
    "    #     path_bees = r'C:\\Users\\USER\\Desktop\\DS 23MC\\Data Cleaning & EDA\\Assignments\\Part 2\\dataset\\Bees'\n",
    "    #     cv2.imwrite(os.path.join(path_bees, f'bee.jpg'), normalized_image)\n",
    "        \n",
    "    # if normalized_image.startswith('housefly'):\n",
    "    #      path_houseflies = r'C:\\Users\\USER\\Desktop\\DS 23MC\\Data Cleaning & EDA\\Assignments\\Part 2\\dataset\\Butterflies'\n",
    "    #     cv2.imwrite()\n",
    "        \n",
    "    # if normalized_image.startswith('hornet'):\n",
    "    #      path_hornets = r'C:\\Users\\USER\\Desktop\\DS 23MC\\Data Cleaning & EDA\\Assignments\\Part 2\\dataset\\Hornets'\n",
    "    #     cv2.imwrite()\n",
    "        \n",
    "    # if normalized_image.startswith('wasp'):\n",
    "    #      path_wasps = r'C:\\Users\\USER\\Desktop\\DS 23MC\\Data Cleaning & EDA\\Assignments\\Part 2\\dataset\\Wasps'\n",
    "    #     cv2.imwrite()\n",
    "        \n",
    "    # if normalized_image.startswith('dragonfly'): \n",
    "    #      path_dragonflies = r'C:\\Users\\USER\\Desktop\\DS 23MC\\Data Cleaning & EDA\\Assignments\\Part 2\\dataset\\dragonflies'\n",
    "    #     cv2.imwrite()\n",
    "\n"
   ]
  },
  {
   "cell_type": "code",
   "execution_count": 2,
   "metadata": {},
   "outputs": [
    {
     "name": "stdout",
     "output_type": "stream",
     "text": [
      "Collecting pycocotools\n",
      "  Downloading pycocotools-2.0.7-cp311-cp311-win_amd64.whl.metadata (1.1 kB)\n",
      "Requirement already satisfied: matplotlib>=2.1.0 in c:\\users\\user\\appdata\\local\\programs\\python\\python311\\lib\\site-packages (from pycocotools) (3.8.1)\n",
      "Requirement already satisfied: numpy in c:\\users\\user\\appdata\\local\\programs\\python\\python311\\lib\\site-packages (from pycocotools) (1.26.2)\n",
      "Requirement already satisfied: contourpy>=1.0.1 in c:\\users\\user\\appdata\\local\\programs\\python\\python311\\lib\\site-packages (from matplotlib>=2.1.0->pycocotools) (1.2.0)\n",
      "Requirement already satisfied: cycler>=0.10 in c:\\users\\user\\appdata\\local\\programs\\python\\python311\\lib\\site-packages (from matplotlib>=2.1.0->pycocotools) (0.12.1)\n",
      "Requirement already satisfied: fonttools>=4.22.0 in c:\\users\\user\\appdata\\local\\programs\\python\\python311\\lib\\site-packages (from matplotlib>=2.1.0->pycocotools) (4.44.1)\n",
      "Requirement already satisfied: kiwisolver>=1.3.1 in c:\\users\\user\\appdata\\local\\programs\\python\\python311\\lib\\site-packages (from matplotlib>=2.1.0->pycocotools) (1.4.5)\n",
      "Requirement already satisfied: packaging>=20.0 in c:\\users\\user\\appdata\\local\\programs\\python\\python311\\lib\\site-packages (from matplotlib>=2.1.0->pycocotools) (23.2)\n",
      "Requirement already satisfied: pillow>=8 in c:\\users\\user\\appdata\\local\\programs\\python\\python311\\lib\\site-packages (from matplotlib>=2.1.0->pycocotools) (10.1.0)\n",
      "Requirement already satisfied: pyparsing>=2.3.1 in c:\\users\\user\\appdata\\local\\programs\\python\\python311\\lib\\site-packages (from matplotlib>=2.1.0->pycocotools) (3.1.1)\n",
      "Requirement already satisfied: python-dateutil>=2.7 in c:\\users\\user\\appdata\\local\\programs\\python\\python311\\lib\\site-packages (from matplotlib>=2.1.0->pycocotools) (2.8.2)\n",
      "Requirement already satisfied: six>=1.5 in c:\\users\\user\\appdata\\local\\programs\\python\\python311\\lib\\site-packages (from python-dateutil>=2.7->matplotlib>=2.1.0->pycocotools) (1.16.0)\n",
      "Downloading pycocotools-2.0.7-cp311-cp311-win_amd64.whl (85 kB)\n",
      "   ---------------------------------------- 0.0/85.8 kB ? eta -:--:--\n",
      "   -------------- ------------------------- 30.7/85.8 kB 1.3 MB/s eta 0:00:01\n",
      "   ---------------------------- ----------- 61.4/85.8 kB 544.7 kB/s eta 0:00:01\n",
      "   -------------------------------------- - 81.9/85.8 kB 573.4 kB/s eta 0:00:01\n",
      "   ---------------------------------------- 85.8/85.8 kB 372.1 kB/s eta 0:00:00\n",
      "Installing collected packages: pycocotools\n",
      "Successfully installed pycocotools-2.0.7\n"
     ]
    }
   ],
   "source": [
    "!pip install pycocotools"
   ]
  }
 ],
 "metadata": {
  "kernelspec": {
   "display_name": "Python 3",
   "language": "python",
   "name": "python3"
  },
  "language_info": {
   "codemirror_mode": {
    "name": "ipython",
    "version": 3
   },
   "file_extension": ".py",
   "mimetype": "text/x-python",
   "name": "python",
   "nbconvert_exporter": "python",
   "pygments_lexer": "ipython3",
   "version": "3.11.5"
  }
 },
 "nbformat": 4,
 "nbformat_minor": 2
}
